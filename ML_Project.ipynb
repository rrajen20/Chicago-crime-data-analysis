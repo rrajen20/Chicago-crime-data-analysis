{
 "cells": [
  {
   "cell_type": "code",
   "execution_count": 51,
   "id": "e1af731e",
   "metadata": {},
   "outputs": [],
   "source": [
    "import pandas as pd\n",
    "import matplotlib.pyplot as plt\n",
    "import seaborn as sns\n",
    "import numpy as np"
   ]
  },
  {
   "cell_type": "code",
   "execution_count": 57,
   "id": "ecd1576a",
   "metadata": {},
   "outputs": [],
   "source": [
    "crimeData = pd.read_csv(\"C:/Users/ramgl/OneDrive/Desktop/ML/Project/Crimes_2010_2022.csv\")"
   ]
  },
  {
   "cell_type": "code",
   "execution_count": 58,
   "id": "b1e311b1",
   "metadata": {},
   "outputs": [
    {
     "name": "stdout",
     "output_type": "stream",
     "text": [
      "Size of Data 75142408\n",
      "Shape of Data (3415564, 22)\n"
     ]
    },
    {
     "data": {
      "text/html": [
       "<div>\n",
       "<style scoped>\n",
       "    .dataframe tbody tr th:only-of-type {\n",
       "        vertical-align: middle;\n",
       "    }\n",
       "\n",
       "    .dataframe tbody tr th {\n",
       "        vertical-align: top;\n",
       "    }\n",
       "\n",
       "    .dataframe thead th {\n",
       "        text-align: right;\n",
       "    }\n",
       "</style>\n",
       "<table border=\"1\" class=\"dataframe\">\n",
       "  <thead>\n",
       "    <tr style=\"text-align: right;\">\n",
       "      <th></th>\n",
       "      <th>ID</th>\n",
       "      <th>Case Number</th>\n",
       "      <th>Date</th>\n",
       "      <th>Block</th>\n",
       "      <th>IUCR</th>\n",
       "      <th>Primary Type</th>\n",
       "      <th>Description</th>\n",
       "      <th>Location Description</th>\n",
       "      <th>Arrest</th>\n",
       "      <th>Domestic</th>\n",
       "      <th>...</th>\n",
       "      <th>Ward</th>\n",
       "      <th>Community Area</th>\n",
       "      <th>FBI Code</th>\n",
       "      <th>X Coordinate</th>\n",
       "      <th>Y Coordinate</th>\n",
       "      <th>Year</th>\n",
       "      <th>Updated On</th>\n",
       "      <th>Latitude</th>\n",
       "      <th>Longitude</th>\n",
       "      <th>Location</th>\n",
       "    </tr>\n",
       "  </thead>\n",
       "  <tbody>\n",
       "    <tr>\n",
       "      <th>3415559</th>\n",
       "      <td>12625618</td>\n",
       "      <td>JF153579</td>\n",
       "      <td>02/16/2022 12:00:00 AM</td>\n",
       "      <td>024XX S SAWYER AVE</td>\n",
       "      <td>1156</td>\n",
       "      <td>DECEPTIVE PRACTICE</td>\n",
       "      <td>ATTEMPT - FINANCIAL IDENTITY THEFT</td>\n",
       "      <td>OTHER (SPECIFY)</td>\n",
       "      <td>False</td>\n",
       "      <td>False</td>\n",
       "      <td>...</td>\n",
       "      <td>12.0</td>\n",
       "      <td>30.0</td>\n",
       "      <td>11</td>\n",
       "      <td>NaN</td>\n",
       "      <td>NaN</td>\n",
       "      <td>2022</td>\n",
       "      <td>02/24/2022 03:51:51 PM</td>\n",
       "      <td>NaN</td>\n",
       "      <td>NaN</td>\n",
       "      <td>NaN</td>\n",
       "    </tr>\n",
       "    <tr>\n",
       "      <th>3415560</th>\n",
       "      <td>12625240</td>\n",
       "      <td>JF153448</td>\n",
       "      <td>01/11/2021 08:00:00 AM</td>\n",
       "      <td>005XX E 51ST ST</td>\n",
       "      <td>0890</td>\n",
       "      <td>THEFT</td>\n",
       "      <td>FROM BUILDING</td>\n",
       "      <td>SCHOOL - PUBLIC BUILDING</td>\n",
       "      <td>False</td>\n",
       "      <td>False</td>\n",
       "      <td>...</td>\n",
       "      <td>4.0</td>\n",
       "      <td>40.0</td>\n",
       "      <td>06</td>\n",
       "      <td>NaN</td>\n",
       "      <td>NaN</td>\n",
       "      <td>2021</td>\n",
       "      <td>02/24/2022 03:51:51 PM</td>\n",
       "      <td>NaN</td>\n",
       "      <td>NaN</td>\n",
       "      <td>NaN</td>\n",
       "    </tr>\n",
       "    <tr>\n",
       "      <th>3415561</th>\n",
       "      <td>12621417</td>\n",
       "      <td>JF148517</td>\n",
       "      <td>02/17/2022 02:45:00 AM</td>\n",
       "      <td>039XX W GRAND AVE</td>\n",
       "      <td>1320</td>\n",
       "      <td>CRIMINAL DAMAGE</td>\n",
       "      <td>TO VEHICLE</td>\n",
       "      <td>OTHER (SPECIFY)</td>\n",
       "      <td>False</td>\n",
       "      <td>False</td>\n",
       "      <td>...</td>\n",
       "      <td>26.0</td>\n",
       "      <td>23.0</td>\n",
       "      <td>14</td>\n",
       "      <td>1150052.0</td>\n",
       "      <td>1908671.0</td>\n",
       "      <td>2022</td>\n",
       "      <td>02/24/2022 03:51:51 PM</td>\n",
       "      <td>41.905303</td>\n",
       "      <td>-87.724251</td>\n",
       "      <td>(41.905303183, -87.724250697)</td>\n",
       "    </tr>\n",
       "    <tr>\n",
       "      <th>3415562</th>\n",
       "      <td>12620904</td>\n",
       "      <td>JF147950</td>\n",
       "      <td>02/17/2022 08:00:00 PM</td>\n",
       "      <td>063XX S FAIRFIELD AVE</td>\n",
       "      <td>0560</td>\n",
       "      <td>ASSAULT</td>\n",
       "      <td>SIMPLE</td>\n",
       "      <td>STREET</td>\n",
       "      <td>False</td>\n",
       "      <td>False</td>\n",
       "      <td>...</td>\n",
       "      <td>17.0</td>\n",
       "      <td>66.0</td>\n",
       "      <td>08A</td>\n",
       "      <td>1159136.0</td>\n",
       "      <td>1862425.0</td>\n",
       "      <td>2022</td>\n",
       "      <td>02/24/2022 03:51:51 PM</td>\n",
       "      <td>41.778217</td>\n",
       "      <td>-87.692150</td>\n",
       "      <td>(41.77821715, -87.692150295)</td>\n",
       "    </tr>\n",
       "    <tr>\n",
       "      <th>3415563</th>\n",
       "      <td>12620468</td>\n",
       "      <td>JF147261</td>\n",
       "      <td>02/17/2022 09:45:00 AM</td>\n",
       "      <td>011XX N WESTERN AVE</td>\n",
       "      <td>0484</td>\n",
       "      <td>BATTERY</td>\n",
       "      <td>PROTECTED EMPLOYEE - HANDS, FISTS, FEET, NO / ...</td>\n",
       "      <td>SCHOOL - PUBLIC BUILDING</td>\n",
       "      <td>False</td>\n",
       "      <td>False</td>\n",
       "      <td>...</td>\n",
       "      <td>1.0</td>\n",
       "      <td>24.0</td>\n",
       "      <td>08B</td>\n",
       "      <td>1160197.0</td>\n",
       "      <td>1907701.0</td>\n",
       "      <td>2022</td>\n",
       "      <td>02/24/2022 03:51:51 PM</td>\n",
       "      <td>41.902438</td>\n",
       "      <td>-87.687012</td>\n",
       "      <td>(41.902437713, -87.687011559)</td>\n",
       "    </tr>\n",
       "  </tbody>\n",
       "</table>\n",
       "<p>5 rows × 22 columns</p>\n",
       "</div>"
      ],
      "text/plain": [
       "               ID Case Number                    Date                  Block  \\\n",
       "3415559  12625618    JF153579  02/16/2022 12:00:00 AM     024XX S SAWYER AVE   \n",
       "3415560  12625240    JF153448  01/11/2021 08:00:00 AM        005XX E 51ST ST   \n",
       "3415561  12621417    JF148517  02/17/2022 02:45:00 AM      039XX W GRAND AVE   \n",
       "3415562  12620904    JF147950  02/17/2022 08:00:00 PM  063XX S FAIRFIELD AVE   \n",
       "3415563  12620468    JF147261  02/17/2022 09:45:00 AM    011XX N WESTERN AVE   \n",
       "\n",
       "         IUCR        Primary Type  \\\n",
       "3415559  1156  DECEPTIVE PRACTICE   \n",
       "3415560  0890               THEFT   \n",
       "3415561  1320     CRIMINAL DAMAGE   \n",
       "3415562  0560             ASSAULT   \n",
       "3415563  0484             BATTERY   \n",
       "\n",
       "                                               Description  \\\n",
       "3415559                 ATTEMPT - FINANCIAL IDENTITY THEFT   \n",
       "3415560                                      FROM BUILDING   \n",
       "3415561                                         TO VEHICLE   \n",
       "3415562                                             SIMPLE   \n",
       "3415563  PROTECTED EMPLOYEE - HANDS, FISTS, FEET, NO / ...   \n",
       "\n",
       "             Location Description  Arrest  Domestic  ...  Ward  \\\n",
       "3415559           OTHER (SPECIFY)   False     False  ...  12.0   \n",
       "3415560  SCHOOL - PUBLIC BUILDING   False     False  ...   4.0   \n",
       "3415561           OTHER (SPECIFY)   False     False  ...  26.0   \n",
       "3415562                    STREET   False     False  ...  17.0   \n",
       "3415563  SCHOOL - PUBLIC BUILDING   False     False  ...   1.0   \n",
       "\n",
       "         Community Area  FBI Code  X Coordinate Y Coordinate  Year  \\\n",
       "3415559            30.0        11           NaN          NaN  2022   \n",
       "3415560            40.0        06           NaN          NaN  2021   \n",
       "3415561            23.0        14     1150052.0    1908671.0  2022   \n",
       "3415562            66.0       08A     1159136.0    1862425.0  2022   \n",
       "3415563            24.0       08B     1160197.0    1907701.0  2022   \n",
       "\n",
       "                     Updated On   Latitude  Longitude  \\\n",
       "3415559  02/24/2022 03:51:51 PM        NaN        NaN   \n",
       "3415560  02/24/2022 03:51:51 PM        NaN        NaN   \n",
       "3415561  02/24/2022 03:51:51 PM  41.905303 -87.724251   \n",
       "3415562  02/24/2022 03:51:51 PM  41.778217 -87.692150   \n",
       "3415563  02/24/2022 03:51:51 PM  41.902438 -87.687012   \n",
       "\n",
       "                              Location  \n",
       "3415559                            NaN  \n",
       "3415560                            NaN  \n",
       "3415561  (41.905303183, -87.724250697)  \n",
       "3415562   (41.77821715, -87.692150295)  \n",
       "3415563  (41.902437713, -87.687011559)  \n",
       "\n",
       "[5 rows x 22 columns]"
      ]
     },
     "execution_count": 58,
     "metadata": {},
     "output_type": "execute_result"
    }
   ],
   "source": [
    "print('Size of Data',crimeData.size)\n",
    "print('Shape of Data',crimeData.shape)\n",
    "crimeData.head()\n",
    "crimeData.tail()\n"
   ]
  },
  {
   "cell_type": "code",
   "execution_count": 15,
   "id": "61e33e37",
   "metadata": {},
   "outputs": [
    {
     "name": "stdout",
     "output_type": "stream",
     "text": [
      "<class 'pandas.core.frame.DataFrame'>\n",
      "RangeIndex: 3415564 entries, 0 to 3415563\n",
      "Data columns (total 22 columns):\n",
      " #   Column                Dtype  \n",
      "---  ------                -----  \n",
      " 0   ID                    int64  \n",
      " 1   Case Number           object \n",
      " 2   Date                  object \n",
      " 3   Block                 object \n",
      " 4   IUCR                  object \n",
      " 5   Primary Type          object \n",
      " 6   Description           object \n",
      " 7   Location Description  object \n",
      " 8   Arrest                bool   \n",
      " 9   Domestic              bool   \n",
      " 10  Beat                  int64  \n",
      " 11  District              float64\n",
      " 12  Ward                  float64\n",
      " 13  Community Area        float64\n",
      " 14  FBI Code              object \n",
      " 15  X Coordinate          float64\n",
      " 16  Y Coordinate          float64\n",
      " 17  Year                  int64  \n",
      " 18  Updated On            object \n",
      " 19  Latitude              float64\n",
      " 20  Longitude             float64\n",
      " 21  Location              object \n",
      "dtypes: bool(2), float64(7), int64(3), object(10)\n",
      "memory usage: 527.7+ MB\n"
     ]
    }
   ],
   "source": [
    "crimeData.info()"
   ]
  },
  {
   "cell_type": "code",
   "execution_count": 95,
   "id": "a3f232f5",
   "metadata": {},
   "outputs": [
    {
     "name": "stdout",
     "output_type": "stream",
     "text": [
      "(3415564, 22)\n"
     ]
    }
   ],
   "source": [
    "#Make a copy of dataframe and then perform the preprocessing\n",
    "crimeData_clean = crimeData\n",
    "print(crimeData_clean.shape)\n"
   ]
  },
  {
   "cell_type": "code",
   "execution_count": 96,
   "id": "591831ae",
   "metadata": {},
   "outputs": [
    {
     "data": {
      "text/plain": [
       "(2693172, 22)"
      ]
     },
     "execution_count": 96,
     "metadata": {},
     "output_type": "execute_result"
    }
   ],
   "source": [
    "crimeData_clean = crimeData_clean[(crimeData_clean['Year'] >2011)]\n",
    "crimeData_clean.head()\n",
    "crimeData_clean.shape"
   ]
  },
  {
   "cell_type": "code",
   "execution_count": 102,
   "id": "94b28254",
   "metadata": {},
   "outputs": [],
   "source": [
    "# print(crimeData_clean.size)\n",
    "# print(crimeData_clean.shape)\n",
    "# #to check if data is filtered\n",
    "# sorted_df = crimeData_clean.sort_values(by=['Date'], ascending=True)\n",
    "# sorted_df.head()\n"
   ]
  },
  {
   "cell_type": "code",
   "execution_count": 103,
   "id": "d0a0ad58",
   "metadata": {},
   "outputs": [
    {
     "data": {
      "text/plain": [
       "Text(0.5, 1.0, 'Missing data in %')"
      ]
     },
     "execution_count": 103,
     "metadata": {},
     "output_type": "execute_result"
    },
    {
     "data": {
      "image/png": "[encoded data removed]",
      "text/plain": [
       "<Figure size 1080x360 with 1 Axes>"
      ]
     },
     "metadata": {
      "needs_background": "light"
     },
     "output_type": "display_data"
    }
   ],
   "source": [
    "#Lets check for Missing Values\n",
    "crimeData_null = crimeData_clean.isnull().sum()/crimeData_clean.isnull().count()\n",
    "\n",
    "#find the total percent of missing values \n",
    "crimeData_sort = crimeData_null.sort_values(ascending=False)\n",
    "\n",
    "crimeData_percent = crimeData_null *100\n",
    "percent_round = (round(crimeData_percent,2).sort_values(ascending=False))\n",
    "\n",
    "# Creating a data frame:\n",
    "crimedata_missingvalues = pd.concat([crimeData_sort, percent_round], axis =1 , keys =[\"Total Missing Values\", \"Percentage %\"]).sort_values(by =\"Percentage %\", ascending = False)\n",
    "\n",
    "#Plotting of missing values\n",
    "plt.figure(figsize=(15,5))\n",
    "sns.barplot(x = np.arange(len(crimeData_null)), y =crimeData_null, palette=\"magma\")\n",
    "plt.xticks(np.arange(len(crimeData_null)),crimeData_null.index,rotation=90)\n",
    "plt.ylabel('% missing data')\n",
    "plt.title(\"Missing data in %\")\n",
    "#plt.savefig(\"Missing Data Variables.jpg\")"
   ]
  },
  {
   "cell_type": "code",
   "execution_count": 107,
   "id": "74b9197b",
   "metadata": {},
   "outputs": [
    {
     "name": "stdout",
     "output_type": "stream",
     "text": [
      "False\n"
     ]
    }
   ],
   "source": [
    "#Drop null values in data\n",
    "crimeData_clean=crimeData_clean.dropna()\n",
    "print(crimeData_clean.isnull().values.any())"
   ]
  },
  {
   "cell_type": "code",
   "execution_count": null,
   "id": "06f74617",
   "metadata": {},
   "outputs": [],
   "source": []
  }
 ],
 "metadata": {
  "kernelspec": {
   "display_name": "Python 3 (ipykernel)",
   "language": "python",
   "name": "python3"
  },
  "language_info": {
   "codemirror_mode": {
    "name": "ipython",
    "version": 3
   },
   "file_extension": ".py",
   "mimetype": "text/x-python",
   "name": "python",
   "nbconvert_exporter": "python",
   "pygments_lexer": "ipython3",
   "version": "3.9.7"
  }
 },
 "nbformat": 4,
 "nbformat_minor": 5
}
